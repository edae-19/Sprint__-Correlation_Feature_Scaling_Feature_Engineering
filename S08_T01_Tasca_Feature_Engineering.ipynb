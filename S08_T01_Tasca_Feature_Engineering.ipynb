{
 "cells": [
  {
   "cell_type": "markdown",
   "metadata": {},
   "source": [
    " # <span style=color:DarkBlue>**S08 T01: Tasca Feature Engineering**</span>\n",
    " \n",
    " _**OBJETIVOS DE LA ACTIVIDAD**_\n",
    " \n",
    " * Aplicar algunas técnicas de pre procesamiento de datos para mejorar el desempeño de los modelos predictivos\n",
    " * Normalizar, estandarizar y reestructurar los atributos de un data set"
   ]
  },
  {
   "cell_type": "code",
   "execution_count": 1,
   "metadata": {},
   "outputs": [],
   "source": [
    "import pandas as pd\n",
    "from sklearn.preprocessing import StandardScaler\n",
    "from sklearn.decomposition import PCA\n",
    "import matplotlib.pyplot as plt\n",
    "from datetime import datetime\n",
    "import seaborn as sns\n"
   ]
  },
  {
   "cell_type": "markdown",
   "metadata": {},
   "source": [
    " #### <span style=color:DarkBlue >**EJERCICIO 1**</span>\n",
    " \n",
    "Normalizar los atributos categóricos en dummy. Estandarizar los atributos numéricos con StandardScaler\n",
    " \n",
    "_**DATOS A UTILIZAR**_\n",
    "\n",
    "El set de datos a utilizar, <span style=color:DarkBlue>'shot_logs.csv'</span> hace referencia a los lanzamientos realizados por los jugadores de la NBA durante la temporada de 2014-2015. Los atributos recolectados en el DF se describen a continuación:\n",
    "\n",
    "* <span style=color:DarkBlue>GAME_ID1:</span> Identificador de partido\n",
    "* <span style=color:DarkBlue>MATCHUP:</span> Fecha del encuentro y equipos involucrados\n",
    "* <span style=color:DarkBlue>LOCATION:</span> Hace referencia a si el jugador que toma el lanzamiento juega de Local o de Visitante (A / H) \n",
    "* <span style=color:DarkBlue>W:</span> Hace referencia a si el equipo del jugador que toma el lanzamiento ganó o perdió el partido (W / L)\n",
    "* <span style=color:DarkBlue>FINAL_MARGIN:</span> Diferencia final en el marcador del encuentro\n",
    "* <span style=color:DarkBlue>SHOT_NUMBER:</span> Numero de lanzamiento del jugador en el encuentro\n",
    "* <span style=color:DarkBlue>PERIOD:</span> Periodo del encuentro en el que se realizó el lanzamiento\n",
    "* <span style=color:DarkBlue>GAME_CLOCK:</span> Minutos transcurridos del periodo en el que se realizó el lanzamiento\n",
    "* <span style=color:DarkBlue>SHOT_CLOCK:</span> Segundos de tiempo de poseción transcurridos en el que se tomo el lanzamiento\n",
    "* <span style=color:DarkBlue>DRIBBLES:</span> Numero de botes de balon del jugados antes de efectuar el lanzamiento\n",
    "* <span style=color:DarkBlue>TOUCH_TIME:</span> Tiempo de poseción del balon por el jugador antes de efectuar el lanzamiento\n",
    "* <span style=color:DarkBlue>SHOT_DIST:</span> Distancia del lanzamiento (En pies)\n",
    "* <span style=color:DarkBlue>PTS_TYPE:</span> Valor del punto, 2 o 3 puntos.\n",
    "* <span style=color:DarkBlue>SHOT_RESULT:</span> Resultado del lanzamiento. Acertado o fallado\n",
    "* <span style=color:DarkBlue>CLOSEST_DEFENDER:</span> Defensor mas cercano\n",
    "* <span style=color:DarkBlue>CLOSEST_DEFENDER_PLAYER_ID:</span> Identificador del defensor\n",
    "* <span style=color:DarkBlue>CLOSE_DEF_DIST:</span> Distancia del defensor al lanzador\n",
    "* <span style=color:DarkBlue>FGM:</span> Numero de lanzamientos que un jugador o equipo a acertado\n",
    "* <span style=color:DarkBlue>PTS:</span> Puntos obtenidos en el lanzamiento\n",
    "* <span style=color:DarkBlue>player_name:</span> Nombre del jugador que tomó el lanzamiento\n",
    "* <span style=color:DarkBlue>player_id:</span> Identificador del lanzador"
   ]
  },
  {
   "cell_type": "code",
   "execution_count": 2,
   "metadata": {},
   "outputs": [],
   "source": [
    "sport_df = pd.read_csv ('Data\\shot_logs.csv', sep = ',')"
   ]
  },
  {
   "cell_type": "code",
   "execution_count": 3,
   "metadata": {},
   "outputs": [
    {
     "data": {
      "text/html": [
       "<div>\n",
       "<style scoped>\n",
       "    .dataframe tbody tr th:only-of-type {\n",
       "        vertical-align: middle;\n",
       "    }\n",
       "\n",
       "    .dataframe tbody tr th {\n",
       "        vertical-align: top;\n",
       "    }\n",
       "\n",
       "    .dataframe thead th {\n",
       "        text-align: right;\n",
       "    }\n",
       "</style>\n",
       "<table border=\"1\" class=\"dataframe\">\n",
       "  <thead>\n",
       "    <tr style=\"text-align: right;\">\n",
       "      <th></th>\n",
       "      <th>GAME_ID1</th>\n",
       "      <th>MATCHUP</th>\n",
       "      <th>LOCATION</th>\n",
       "      <th>W</th>\n",
       "      <th>FINAL_MARGIN</th>\n",
       "      <th>SHOT_NUMBER</th>\n",
       "      <th>PERIOD</th>\n",
       "      <th>GAME_CLOCK</th>\n",
       "      <th>SHOT_CLOCK</th>\n",
       "      <th>DRIBBLES</th>\n",
       "      <th>...</th>\n",
       "      <th>SHOT_DIST</th>\n",
       "      <th>PTS_TYPE</th>\n",
       "      <th>SHOT_RESULT</th>\n",
       "      <th>CLOSEST_DEFENDER</th>\n",
       "      <th>CLOSEST_DEFENDER_PLAYER_ID</th>\n",
       "      <th>CLOSE_DEF_DIST</th>\n",
       "      <th>FGM</th>\n",
       "      <th>PTS</th>\n",
       "      <th>player_name</th>\n",
       "      <th>player_id</th>\n",
       "    </tr>\n",
       "  </thead>\n",
       "  <tbody>\n",
       "    <tr>\n",
       "      <th>0</th>\n",
       "      <td>21400899</td>\n",
       "      <td>MAR 04, 2015 - CHA @ BKN</td>\n",
       "      <td>A</td>\n",
       "      <td>W</td>\n",
       "      <td>24</td>\n",
       "      <td>1</td>\n",
       "      <td>1</td>\n",
       "      <td>01:09</td>\n",
       "      <td>10.8</td>\n",
       "      <td>2</td>\n",
       "      <td>...</td>\n",
       "      <td>7.7</td>\n",
       "      <td>2</td>\n",
       "      <td>made</td>\n",
       "      <td>Anderson, Alan</td>\n",
       "      <td>101187</td>\n",
       "      <td>1.3</td>\n",
       "      <td>1</td>\n",
       "      <td>2</td>\n",
       "      <td>brian roberts</td>\n",
       "      <td>203148</td>\n",
       "    </tr>\n",
       "    <tr>\n",
       "      <th>1</th>\n",
       "      <td>21400899</td>\n",
       "      <td>MAR 04, 2015 - CHA @ BKN</td>\n",
       "      <td>A</td>\n",
       "      <td>W</td>\n",
       "      <td>24</td>\n",
       "      <td>2</td>\n",
       "      <td>1</td>\n",
       "      <td>00:14</td>\n",
       "      <td>3.4</td>\n",
       "      <td>0</td>\n",
       "      <td>...</td>\n",
       "      <td>28.2</td>\n",
       "      <td>3</td>\n",
       "      <td>missed</td>\n",
       "      <td>Bogdanovic, Bojan</td>\n",
       "      <td>202711</td>\n",
       "      <td>6.1</td>\n",
       "      <td>0</td>\n",
       "      <td>0</td>\n",
       "      <td>brian roberts</td>\n",
       "      <td>203148</td>\n",
       "    </tr>\n",
       "    <tr>\n",
       "      <th>2</th>\n",
       "      <td>21400899</td>\n",
       "      <td>MAR 04, 2015 - CHA @ BKN</td>\n",
       "      <td>A</td>\n",
       "      <td>W</td>\n",
       "      <td>24</td>\n",
       "      <td>3</td>\n",
       "      <td>1</td>\n",
       "      <td>00:00</td>\n",
       "      <td>NaN</td>\n",
       "      <td>3</td>\n",
       "      <td>...</td>\n",
       "      <td>10.1</td>\n",
       "      <td>2</td>\n",
       "      <td>missed</td>\n",
       "      <td>Bogdanovic, Bojan</td>\n",
       "      <td>202711</td>\n",
       "      <td>0.9</td>\n",
       "      <td>0</td>\n",
       "      <td>0</td>\n",
       "      <td>brian roberts</td>\n",
       "      <td>203148</td>\n",
       "    </tr>\n",
       "    <tr>\n",
       "      <th>3</th>\n",
       "      <td>21400899</td>\n",
       "      <td>MAR 04, 2015 - CHA @ BKN</td>\n",
       "      <td>A</td>\n",
       "      <td>W</td>\n",
       "      <td>24</td>\n",
       "      <td>4</td>\n",
       "      <td>2</td>\n",
       "      <td>11:47</td>\n",
       "      <td>10.3</td>\n",
       "      <td>2</td>\n",
       "      <td>...</td>\n",
       "      <td>17.2</td>\n",
       "      <td>2</td>\n",
       "      <td>missed</td>\n",
       "      <td>Brown, Markel</td>\n",
       "      <td>203900</td>\n",
       "      <td>3.4</td>\n",
       "      <td>0</td>\n",
       "      <td>0</td>\n",
       "      <td>brian roberts</td>\n",
       "      <td>203148</td>\n",
       "    </tr>\n",
       "    <tr>\n",
       "      <th>4</th>\n",
       "      <td>21400899</td>\n",
       "      <td>MAR 04, 2015 - CHA @ BKN</td>\n",
       "      <td>A</td>\n",
       "      <td>W</td>\n",
       "      <td>24</td>\n",
       "      <td>5</td>\n",
       "      <td>2</td>\n",
       "      <td>10:34</td>\n",
       "      <td>10.9</td>\n",
       "      <td>2</td>\n",
       "      <td>...</td>\n",
       "      <td>3.7</td>\n",
       "      <td>2</td>\n",
       "      <td>missed</td>\n",
       "      <td>Young, Thaddeus</td>\n",
       "      <td>201152</td>\n",
       "      <td>1.1</td>\n",
       "      <td>0</td>\n",
       "      <td>0</td>\n",
       "      <td>brian roberts</td>\n",
       "      <td>203148</td>\n",
       "    </tr>\n",
       "  </tbody>\n",
       "</table>\n",
       "<p>5 rows × 21 columns</p>\n",
       "</div>"
      ],
      "text/plain": [
       "   GAME_ID1                   MATCHUP LOCATION  W  FINAL_MARGIN  SHOT_NUMBER  \\\n",
       "0  21400899  MAR 04, 2015 - CHA @ BKN        A  W            24            1   \n",
       "1  21400899  MAR 04, 2015 - CHA @ BKN        A  W            24            2   \n",
       "2  21400899  MAR 04, 2015 - CHA @ BKN        A  W            24            3   \n",
       "3  21400899  MAR 04, 2015 - CHA @ BKN        A  W            24            4   \n",
       "4  21400899  MAR 04, 2015 - CHA @ BKN        A  W            24            5   \n",
       "\n",
       "   PERIOD GAME_CLOCK  SHOT_CLOCK  DRIBBLES  ...  SHOT_DIST  PTS_TYPE  \\\n",
       "0       1      01:09        10.8         2  ...        7.7         2   \n",
       "1       1      00:14         3.4         0  ...       28.2         3   \n",
       "2       1      00:00         NaN         3  ...       10.1         2   \n",
       "3       2      11:47        10.3         2  ...       17.2         2   \n",
       "4       2      10:34        10.9         2  ...        3.7         2   \n",
       "\n",
       "   SHOT_RESULT   CLOSEST_DEFENDER CLOSEST_DEFENDER_PLAYER_ID  CLOSE_DEF_DIST  \\\n",
       "0         made     Anderson, Alan                     101187             1.3   \n",
       "1       missed  Bogdanovic, Bojan                     202711             6.1   \n",
       "2       missed  Bogdanovic, Bojan                     202711             0.9   \n",
       "3       missed      Brown, Markel                     203900             3.4   \n",
       "4       missed    Young, Thaddeus                     201152             1.1   \n",
       "\n",
       "   FGM  PTS    player_name player_id  \n",
       "0    1    2  brian roberts    203148  \n",
       "1    0    0  brian roberts    203148  \n",
       "2    0    0  brian roberts    203148  \n",
       "3    0    0  brian roberts    203148  \n",
       "4    0    0  brian roberts    203148  \n",
       "\n",
       "[5 rows x 21 columns]"
      ]
     },
     "execution_count": 3,
     "metadata": {},
     "output_type": "execute_result"
    }
   ],
   "source": [
    "sport_df.head()"
   ]
  },
  {
   "cell_type": "code",
   "execution_count": 4,
   "metadata": {},
   "outputs": [
    {
     "name": "stdout",
     "output_type": "stream",
     "text": [
      "<class 'pandas.core.frame.DataFrame'>\n",
      "RangeIndex: 128069 entries, 0 to 128068\n",
      "Data columns (total 21 columns):\n",
      " #   Column                      Non-Null Count   Dtype  \n",
      "---  ------                      --------------   -----  \n",
      " 0   GAME_ID1                    128069 non-null  int64  \n",
      " 1   MATCHUP                     128069 non-null  object \n",
      " 2   LOCATION                    128069 non-null  object \n",
      " 3   W                           128069 non-null  object \n",
      " 4   FINAL_MARGIN                128069 non-null  int64  \n",
      " 5   SHOT_NUMBER                 128069 non-null  int64  \n",
      " 6   PERIOD                      128069 non-null  int64  \n",
      " 7   GAME_CLOCK                  128069 non-null  object \n",
      " 8   SHOT_CLOCK                  122502 non-null  float64\n",
      " 9   DRIBBLES                    128069 non-null  int64  \n",
      " 10  TOUCH_TIME                  128069 non-null  float64\n",
      " 11  SHOT_DIST                   128069 non-null  float64\n",
      " 12  PTS_TYPE                    128069 non-null  int64  \n",
      " 13  SHOT_RESULT                 128069 non-null  object \n",
      " 14  CLOSEST_DEFENDER            128069 non-null  object \n",
      " 15  CLOSEST_DEFENDER_PLAYER_ID  128069 non-null  int64  \n",
      " 16  CLOSE_DEF_DIST              128069 non-null  float64\n",
      " 17  FGM                         128069 non-null  int64  \n",
      " 18  PTS                         128069 non-null  int64  \n",
      " 19  player_name                 128069 non-null  object \n",
      " 20  player_id                   128069 non-null  int64  \n",
      "dtypes: float64(4), int64(10), object(7)\n",
      "memory usage: 20.5+ MB\n"
     ]
    }
   ],
   "source": [
    "sport_df.info()"
   ]
  },
  {
   "cell_type": "markdown",
   "metadata": {},
   "source": [
    "_**EJERCICIO 1.1**_\n",
    "\n",
    "Plantearemos como variable target el atributo de 'SHOT_RESULT'. \n",
    "\n",
    "Aplicaremos **dummies a atributos categóricos** que puedan influir con el resultado del lanzamiento. En este caso lo aplicaremos a los atributos de: **'LOCATION', 'W', 'PERIOD', 'PTS_TYPE'**\n",
    "\n",
    "'PERIOD' y 'PTS_TYPE' son atributos numéricos, que tendremos que pasar a categóricos antes de aplicar el dummies."
   ]
  },
  {
   "cell_type": "code",
   "execution_count": 5,
   "metadata": {},
   "outputs": [],
   "source": [
    "sport_df = sport_df.astype({'PERIOD': str,'PTS_TYPE': str })"
   ]
  },
  {
   "cell_type": "code",
   "execution_count": 6,
   "metadata": {},
   "outputs": [],
   "source": [
    "dummies = pd.get_dummies (sport_df[['LOCATION', 'W','PERIOD','PTS_TYPE']])"
   ]
  },
  {
   "cell_type": "code",
   "execution_count": 7,
   "metadata": {},
   "outputs": [],
   "source": [
    "sport_df = pd.concat ([sport_df,dummies], axis = 1)"
   ]
  },
  {
   "cell_type": "code",
   "execution_count": 8,
   "metadata": {},
   "outputs": [],
   "source": [
    "sport_df.drop (['LOCATION', 'W','PERIOD','PTS_TYPE'], axis = 1, inplace = True)"
   ]
  },
  {
   "cell_type": "code",
   "execution_count": 9,
   "metadata": {},
   "outputs": [],
   "source": [
    "sport_df.rename (columns = {'LOCATION_A' : 'AWAY', 'LOCATION_H': 'HOME', \n",
    "                            'W_L': 'WIN', 'W_W': 'LOOS',\n",
    "                            'PTS_TYPE_2': '2_POINTS','PTS_TYPE_3': '3_POINTS'}, inplace = True)"
   ]
  },
  {
   "cell_type": "code",
   "execution_count": 10,
   "metadata": {},
   "outputs": [
    {
     "name": "stdout",
     "output_type": "stream",
     "text": [
      "<class 'pandas.core.frame.DataFrame'>\n",
      "RangeIndex: 128069 entries, 0 to 128068\n",
      "Data columns (total 30 columns):\n",
      " #   Column                      Non-Null Count   Dtype  \n",
      "---  ------                      --------------   -----  \n",
      " 0   GAME_ID1                    128069 non-null  int64  \n",
      " 1   MATCHUP                     128069 non-null  object \n",
      " 2   FINAL_MARGIN                128069 non-null  int64  \n",
      " 3   SHOT_NUMBER                 128069 non-null  int64  \n",
      " 4   GAME_CLOCK                  128069 non-null  object \n",
      " 5   SHOT_CLOCK                  122502 non-null  float64\n",
      " 6   DRIBBLES                    128069 non-null  int64  \n",
      " 7   TOUCH_TIME                  128069 non-null  float64\n",
      " 8   SHOT_DIST                   128069 non-null  float64\n",
      " 9   SHOT_RESULT                 128069 non-null  object \n",
      " 10  CLOSEST_DEFENDER            128069 non-null  object \n",
      " 11  CLOSEST_DEFENDER_PLAYER_ID  128069 non-null  int64  \n",
      " 12  CLOSE_DEF_DIST              128069 non-null  float64\n",
      " 13  FGM                         128069 non-null  int64  \n",
      " 14  PTS                         128069 non-null  int64  \n",
      " 15  player_name                 128069 non-null  object \n",
      " 16  player_id                   128069 non-null  int64  \n",
      " 17  AWAY                        128069 non-null  uint8  \n",
      " 18  HOME                        128069 non-null  uint8  \n",
      " 19  WIN                         128069 non-null  uint8  \n",
      " 20  LOOS                        128069 non-null  uint8  \n",
      " 21  PERIOD_1                    128069 non-null  uint8  \n",
      " 22  PERIOD_2                    128069 non-null  uint8  \n",
      " 23  PERIOD_3                    128069 non-null  uint8  \n",
      " 24  PERIOD_4                    128069 non-null  uint8  \n",
      " 25  PERIOD_5                    128069 non-null  uint8  \n",
      " 26  PERIOD_6                    128069 non-null  uint8  \n",
      " 27  PERIOD_7                    128069 non-null  uint8  \n",
      " 28  2_POINTS                    128069 non-null  uint8  \n",
      " 29  3_POINTS                    128069 non-null  uint8  \n",
      "dtypes: float64(4), int64(8), object(5), uint8(13)\n",
      "memory usage: 18.2+ MB\n"
     ]
    }
   ],
   "source": [
    "sport_df.info()"
   ]
  },
  {
   "cell_type": "markdown",
   "metadata": {},
   "source": [
    "_**EJERCICIO 1.2**_\n",
    "\n",
    "Para standarizar los valores numéricos primero seleccionaremos las columnas que consideramos puedan influir en el resultado del lanzamiento. En este caso seleccionaremos: 'GAME_CLOCK', 'SHOT_CLOCK', 'DRIBBLES', 'SHOT_DIST, 'CLOSE_DEF_DIST'\n",
    "\n",
    "Los atributos con formato horario los pasarems a segundos para poder tener una única unidad en estas columnas. En este caso, el único atributo con formato horario es el de GAME_CLOCK. \n",
    "\n",
    "Para aplicar el Scaler tenemos que tratar los valores NaN de cada columna, de lo contrario la desviación estandard  el mean resultante serán NaN.\n",
    "\n",
    "La columna con valores NaN es la de SHOT_CLOCK, con 5.567 valores NaN, que pueden hacer referencia a lanzamiento fuera de tiempo, lo que no aportan valor para el estudio. Podemos eliminar estas filas."
   ]
  },
  {
   "cell_type": "code",
   "execution_count": 11,
   "metadata": {},
   "outputs": [],
   "source": [
    "def time_to_sec (date_time):\n",
    "    timedelta = date_time - datetime(1900, 1, 1)\n",
    "    seconds = timedelta.total_seconds()\n",
    "    return seconds"
   ]
  },
  {
   "cell_type": "code",
   "execution_count": 12,
   "metadata": {},
   "outputs": [],
   "source": [
    "sport_df['GAME_CLOCK_SECONDS'] = pd.to_datetime(sport_df['GAME_CLOCK'], format = '%M:%S')"
   ]
  },
  {
   "cell_type": "code",
   "execution_count": 13,
   "metadata": {},
   "outputs": [],
   "source": [
    "sport_df['GAME_CLOCK_SECONDS'] = sport_df['GAME_CLOCK_SECONDS'].apply (lambda X : time_to_sec (X))"
   ]
  },
  {
   "cell_type": "code",
   "execution_count": 14,
   "metadata": {},
   "outputs": [],
   "source": [
    "sport_df = sport_df.dropna(subset = ['SHOT_CLOCK'])"
   ]
  },
  {
   "cell_type": "code",
   "execution_count": 15,
   "metadata": {},
   "outputs": [],
   "source": [
    "sport_df.reset_index(drop = True, inplace = True)"
   ]
  },
  {
   "cell_type": "code",
   "execution_count": 16,
   "metadata": {},
   "outputs": [],
   "source": [
    "scaler = StandardScaler()"
   ]
  },
  {
   "cell_type": "code",
   "execution_count": 17,
   "metadata": {},
   "outputs": [],
   "source": [
    "scaler_array = scaler.fit_transform(sport_df[['GAME_CLOCK_SECONDS', 'SHOT_CLOCK', 'DRIBBLES', 'SHOT_DIST','CLOSE_DEF_DIST']])"
   ]
  },
  {
   "cell_type": "code",
   "execution_count": 18,
   "metadata": {},
   "outputs": [],
   "source": [
    "scaler_df = pd.DataFrame(scaler_array)"
   ]
  },
  {
   "cell_type": "code",
   "execution_count": 19,
   "metadata": {},
   "outputs": [],
   "source": [
    "scaler_df.rename(columns = {0 : 'GAME_CLOCK_STAND', 1 : 'SHOT_CLOCK_STAND',  2: 'DRIBBLES_STAND',\n",
    "                           3 : 'SHOT_DIST_STAND',4 : 'CLOSE_DEF_DIST_STAND'}, inplace = True)"
   ]
  },
  {
   "cell_type": "code",
   "execution_count": 20,
   "metadata": {},
   "outputs": [
    {
     "name": "stdout",
     "output_type": "stream",
     "text": [
      "<class 'pandas.core.frame.DataFrame'>\n",
      "RangeIndex: 122502 entries, 0 to 122501\n",
      "Data columns (total 5 columns):\n",
      " #   Column                Non-Null Count   Dtype  \n",
      "---  ------                --------------   -----  \n",
      " 0   GAME_CLOCK_STAND      122502 non-null  float64\n",
      " 1   SHOT_CLOCK_STAND      122502 non-null  float64\n",
      " 2   DRIBBLES_STAND        122502 non-null  float64\n",
      " 3   SHOT_DIST_STAND       122502 non-null  float64\n",
      " 4   CLOSE_DEF_DIST_STAND  122502 non-null  float64\n",
      "dtypes: float64(5)\n",
      "memory usage: 4.7 MB\n"
     ]
    }
   ],
   "source": [
    "scaler_df.info()"
   ]
  },
  {
   "cell_type": "code",
   "execution_count": 21,
   "metadata": {},
   "outputs": [],
   "source": [
    "sport_df.drop (['GAME_ID1','MATCHUP','FINAL_MARGIN','SHOT_NUMBER','TOUCH_TIME',\n",
    "               'CLOSEST_DEFENDER','CLOSEST_DEFENDER_PLAYER_ID','FGM','PTS',\n",
    "               'player_name','player_id','GAME_CLOCK_SECONDS', 'GAME_CLOCK',\n",
    "               'SHOT_CLOCK','DRIBBLES','SHOT_DIST','CLOSE_DEF_DIST'], inplace = True, axis = 1)"
   ]
  },
  {
   "cell_type": "code",
   "execution_count": 22,
   "metadata": {},
   "outputs": [],
   "source": [
    "final_sport_df = pd.concat([sport_df,scaler_df], axis = 1)"
   ]
  },
  {
   "cell_type": "code",
   "execution_count": 23,
   "metadata": {},
   "outputs": [
    {
     "data": {
      "text/html": [
       "<div>\n",
       "<style scoped>\n",
       "    .dataframe tbody tr th:only-of-type {\n",
       "        vertical-align: middle;\n",
       "    }\n",
       "\n",
       "    .dataframe tbody tr th {\n",
       "        vertical-align: top;\n",
       "    }\n",
       "\n",
       "    .dataframe thead th {\n",
       "        text-align: right;\n",
       "    }\n",
       "</style>\n",
       "<table border=\"1\" class=\"dataframe\">\n",
       "  <thead>\n",
       "    <tr style=\"text-align: right;\">\n",
       "      <th></th>\n",
       "      <th>SHOT_RESULT</th>\n",
       "      <th>AWAY</th>\n",
       "      <th>HOME</th>\n",
       "      <th>WIN</th>\n",
       "      <th>LOOS</th>\n",
       "      <th>PERIOD_1</th>\n",
       "      <th>PERIOD_2</th>\n",
       "      <th>PERIOD_3</th>\n",
       "      <th>PERIOD_4</th>\n",
       "      <th>PERIOD_5</th>\n",
       "      <th>PERIOD_6</th>\n",
       "      <th>PERIOD_7</th>\n",
       "      <th>2_POINTS</th>\n",
       "      <th>3_POINTS</th>\n",
       "      <th>GAME_CLOCK_STAND</th>\n",
       "      <th>SHOT_CLOCK_STAND</th>\n",
       "      <th>DRIBBLES_STAND</th>\n",
       "      <th>SHOT_DIST_STAND</th>\n",
       "      <th>CLOSE_DEF_DIST_STAND</th>\n",
       "    </tr>\n",
       "  </thead>\n",
       "  <tbody>\n",
       "    <tr>\n",
       "      <th>122497</th>\n",
       "      <td>made</td>\n",
       "      <td>1</td>\n",
       "      <td>0</td>\n",
       "      <td>1</td>\n",
       "      <td>0</td>\n",
       "      <td>0</td>\n",
       "      <td>1</td>\n",
       "      <td>0</td>\n",
       "      <td>0</td>\n",
       "      <td>0</td>\n",
       "      <td>0</td>\n",
       "      <td>0</td>\n",
       "      <td>1</td>\n",
       "      <td>0</td>\n",
       "      <td>-0.277535</td>\n",
       "      <td>0.493933</td>\n",
       "      <td>0.003156</td>\n",
       "      <td>-0.517685</td>\n",
       "      <td>0.573596</td>\n",
       "    </tr>\n",
       "    <tr>\n",
       "      <th>122498</th>\n",
       "      <td>missed</td>\n",
       "      <td>1</td>\n",
       "      <td>0</td>\n",
       "      <td>1</td>\n",
       "      <td>0</td>\n",
       "      <td>0</td>\n",
       "      <td>0</td>\n",
       "      <td>1</td>\n",
       "      <td>0</td>\n",
       "      <td>0</td>\n",
       "      <td>0</td>\n",
       "      <td>0</td>\n",
       "      <td>1</td>\n",
       "      <td>0</td>\n",
       "      <td>-1.232869</td>\n",
       "      <td>1.014474</td>\n",
       "      <td>0.882619</td>\n",
       "      <td>-0.540471</td>\n",
       "      <td>-1.207201</td>\n",
       "    </tr>\n",
       "    <tr>\n",
       "      <th>122499</th>\n",
       "      <td>made</td>\n",
       "      <td>1</td>\n",
       "      <td>0</td>\n",
       "      <td>1</td>\n",
       "      <td>0</td>\n",
       "      <td>0</td>\n",
       "      <td>0</td>\n",
       "      <td>0</td>\n",
       "      <td>1</td>\n",
       "      <td>0</td>\n",
       "      <td>0</td>\n",
       "      <td>0</td>\n",
       "      <td>1</td>\n",
       "      <td>0</td>\n",
       "      <td>1.618284</td>\n",
       "      <td>1.274744</td>\n",
       "      <td>0.589465</td>\n",
       "      <td>-1.463330</td>\n",
       "      <td>-1.279887</td>\n",
       "    </tr>\n",
       "    <tr>\n",
       "      <th>122500</th>\n",
       "      <td>made</td>\n",
       "      <td>1</td>\n",
       "      <td>0</td>\n",
       "      <td>1</td>\n",
       "      <td>0</td>\n",
       "      <td>0</td>\n",
       "      <td>0</td>\n",
       "      <td>0</td>\n",
       "      <td>1</td>\n",
       "      <td>0</td>\n",
       "      <td>0</td>\n",
       "      <td>0</td>\n",
       "      <td>1</td>\n",
       "      <td>0</td>\n",
       "      <td>1.529185</td>\n",
       "      <td>1.829987</td>\n",
       "      <td>0.003156</td>\n",
       "      <td>0.393781</td>\n",
       "      <td>0.028454</td>\n",
       "    </tr>\n",
       "    <tr>\n",
       "      <th>122501</th>\n",
       "      <td>missed</td>\n",
       "      <td>1</td>\n",
       "      <td>0</td>\n",
       "      <td>1</td>\n",
       "      <td>0</td>\n",
       "      <td>0</td>\n",
       "      <td>0</td>\n",
       "      <td>0</td>\n",
       "      <td>1</td>\n",
       "      <td>0</td>\n",
       "      <td>0</td>\n",
       "      <td>0</td>\n",
       "      <td>1</td>\n",
       "      <td>0</td>\n",
       "      <td>-1.010122</td>\n",
       "      <td>-0.581850</td>\n",
       "      <td>0.589465</td>\n",
       "      <td>0.553287</td>\n",
       "      <td>-0.407659</td>\n",
       "    </tr>\n",
       "  </tbody>\n",
       "</table>\n",
       "</div>"
      ],
      "text/plain": [
       "       SHOT_RESULT  AWAY  HOME  WIN  LOOS  PERIOD_1  PERIOD_2  PERIOD_3  \\\n",
       "122497        made     1     0    1     0         0         1         0   \n",
       "122498      missed     1     0    1     0         0         0         1   \n",
       "122499        made     1     0    1     0         0         0         0   \n",
       "122500        made     1     0    1     0         0         0         0   \n",
       "122501      missed     1     0    1     0         0         0         0   \n",
       "\n",
       "        PERIOD_4  PERIOD_5  PERIOD_6  PERIOD_7  2_POINTS  3_POINTS  \\\n",
       "122497         0         0         0         0         1         0   \n",
       "122498         0         0         0         0         1         0   \n",
       "122499         1         0         0         0         1         0   \n",
       "122500         1         0         0         0         1         0   \n",
       "122501         1         0         0         0         1         0   \n",
       "\n",
       "        GAME_CLOCK_STAND  SHOT_CLOCK_STAND  DRIBBLES_STAND  SHOT_DIST_STAND  \\\n",
       "122497         -0.277535          0.493933        0.003156        -0.517685   \n",
       "122498         -1.232869          1.014474        0.882619        -0.540471   \n",
       "122499          1.618284          1.274744        0.589465        -1.463330   \n",
       "122500          1.529185          1.829987        0.003156         0.393781   \n",
       "122501         -1.010122         -0.581850        0.589465         0.553287   \n",
       "\n",
       "        CLOSE_DEF_DIST_STAND  \n",
       "122497              0.573596  \n",
       "122498             -1.207201  \n",
       "122499             -1.279887  \n",
       "122500              0.028454  \n",
       "122501             -0.407659  "
      ]
     },
     "execution_count": 23,
     "metadata": {},
     "output_type": "execute_result"
    }
   ],
   "source": [
    "final_sport_df.tail()"
   ]
  },
  {
   "cell_type": "markdown",
   "metadata": {},
   "source": [
    " #### <span style=color:DarkBlue >**EJERCICIO 2**</span>\n",
    " \n",
    "Aplicar el Análisis de componentes principales (PCA) al Data Set.\n",
    "\n",
    "Aplicaremos el PCA sobre el DF previamente trabajado <span style=color:DarkBlue >*'final_sport_df'*</span>. el análisis del componente principal lo aplicaremos retirando el atributo Target que, en este caso es el SHOT_RESULT. Haremos una reducción de cmponentes de 18 a 4."
   ]
  },
  {
   "cell_type": "code",
   "execution_count": 24,
   "metadata": {},
   "outputs": [],
   "source": [
    "final_sport_df_1 = final_sport_df.drop (['SHOT_RESULT'], axis = 1)"
   ]
  },
  {
   "cell_type": "code",
   "execution_count": 25,
   "metadata": {},
   "outputs": [
    {
     "data": {
      "text/plain": [
       "(122502, 18)"
      ]
     },
     "execution_count": 25,
     "metadata": {},
     "output_type": "execute_result"
    }
   ],
   "source": [
    "final_sport_df_1.shape"
   ]
  },
  {
   "cell_type": "code",
   "execution_count": 26,
   "metadata": {},
   "outputs": [],
   "source": [
    "pca = PCA(4)"
   ]
  },
  {
   "cell_type": "code",
   "execution_count": 27,
   "metadata": {},
   "outputs": [],
   "source": [
    "principalComponens = pca.fit_transform (final_sport_df_1)"
   ]
  },
  {
   "cell_type": "code",
   "execution_count": 28,
   "metadata": {},
   "outputs": [],
   "source": [
    "pca_df = pd.DataFrame(data = principalComponens, columns = ['pca1','pca2','pca3','pca4'])"
   ]
  },
  {
   "cell_type": "code",
   "execution_count": 29,
   "metadata": {},
   "outputs": [],
   "source": [
    "final_df = pd.concat ([pca_df, final_sport_df[['SHOT_RESULT']]], axis = 1)"
   ]
  },
  {
   "cell_type": "code",
   "execution_count": 30,
   "metadata": {},
   "outputs": [
    {
     "data": {
      "text/plain": [
       "(122502, 5)"
      ]
     },
     "execution_count": 30,
     "metadata": {},
     "output_type": "execute_result"
    }
   ],
   "source": [
    "final_df.shape"
   ]
  },
  {
   "cell_type": "code",
   "execution_count": null,
   "metadata": {},
   "outputs": [],
   "source": []
  }
 ],
 "metadata": {
  "kernelspec": {
   "display_name": "Python 3",
   "language": "python",
   "name": "python3"
  },
  "language_info": {
   "codemirror_mode": {
    "name": "ipython",
    "version": 3
   },
   "file_extension": ".py",
   "mimetype": "text/x-python",
   "name": "python",
   "nbconvert_exporter": "python",
   "pygments_lexer": "ipython3",
   "version": "3.8.3"
  }
 },
 "nbformat": 4,
 "nbformat_minor": 4
}
